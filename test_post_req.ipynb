{
 "cells": [
  {
   "cell_type": "code",
   "execution_count": null,
   "metadata": {},
   "outputs": [],
   "source": [
    "#require \"core\";;\n",
    "#require \"yaml.unix\";;\n",
    "#require \"yaml\";;\n",
    "#require \"fpath\"\n",
    "#require \"yaml.unix\"\n",
    "#require \"lwt\"\n",
    "#require \"cohttp\"\n",
    "#require \"cohttp-lwt-unix\""
   ]
  },
  {
   "cell_type": "code",
   "execution_count": 7,
   "metadata": {},
   "outputs": [
    {
     "data": {
      "text/plain": [
       "val keyvallist_to_form_urlencoded :\n",
       "  (string * string) list -> Cohttp_lwt.Body.t = <fun>\n"
      ]
     },
     "execution_count": 7,
     "metadata": {},
     "output_type": "execute_result"
    },
    {
     "data": {
      "text/plain": [
       "val keyvallist_to_form_json : (string * string) list -> Cohttp_lwt.Body.t =\n",
       "  <fun>\n"
      ]
     },
     "execution_count": 7,
     "metadata": {},
     "output_type": "execute_result"
    },
    {
     "data": {
      "text/plain": [
       "val test_post : string Lwt.t = <abstr>\n"
      ]
     },
     "execution_count": 7,
     "metadata": {},
     "output_type": "execute_result"
    },
    {
     "name": "stdout",
     "output_type": "stream",
     "text": [
      "Response code: 200\n",
      "Headers: access-control-allow-credentials: true\n",
      "access-control-allow-origin: *\n",
      "connection: keep-alive\n",
      "content-length: 381\n",
      "content-type: application/json\n",
      "date: Thu, 04 Feb 2021 23:54:53 GMT\n",
      "server: gunicorn/19.9.0\n",
      "\n",
      "\n",
      "Body of length: 381\n",
      "{\n",
      "  \"args\": {}, \n",
      "  \"data\": \"{\\\"mykey\\\": \\\"myvalue\\\"}\", \n",
      "  \"files\": {}, \n",
      "  \"form\": {}, \n",
      "  \"headers\": {\n",
      "    \"Content-Length\": \"20\", \n",
      "    \"Host\": \"httpbin.org\", \n",
      "    \"User-Agent\": \"ocaml-cohttp/2.5.4\", \n",
      "    \"X-Amzn-Trace-Id\": \"Root=1-601c894d-2efc115d6e7242e960db46e4\"\n",
      "  }, \n",
      "  \"json\": {\n",
      "    \"mykey\": \"myvalue\"\n",
      "  }, \n",
      "  \"origin\": \"100.17.36.224\", \n",
      "  \"url\": \"https://httpbin.org/post\"\n",
      "}\n",
      "\n"
     ]
    }
   ],
   "source": [
    "open Lwt\n",
    "open Cohttp\n",
    "open Cohttp_lwt_unix\n",
    "\n",
    "let keyvallist_to_form_urlencoded p =\n",
    "  p |> List.map (fun (k,v) -> Printf.sprintf \"%s=%s\" k v)\n",
    "  |> String.concat \"&\"\n",
    "  |> Cohttp_lwt.Body.of_string\n",
    "\n",
    "let keyvallist_to_form_json p = p\n",
    "  |> List.map (fun (k,v) -> Printf.sprintf {|\"%s\": \"%s\"|} k v)\n",
    "  |> String.concat \", \"\n",
    "  |> Printf.sprintf \"{%s}\"\n",
    "  |> Cohttp_lwt.Body.of_string\n",
    "\n",
    "let test_post =\n",
    "    let uri = Uri.of_string \"https://httpbin.org/post\" in\n",
    "    (* let headers = Cohttp.Header.init_with \"Bearer\" token in *)\n",
    "    let body = keyvallist_to_form_json [(\"mykey\", \"myvalue\")] in\n",
    "    Cohttp_lwt_unix.Client.post ~body uri >>= fun (resp, body) ->\n",
    "      let code = resp |> Response.status |> Code.code_of_status in\n",
    "      Printf.printf \"Response code: %d\\n\" code;\n",
    "      Printf.printf \"Headers: %s\\n\" (resp |> Response.headers |> Header.to_string);\n",
    "      body |> Cohttp_lwt.Body.to_string >|= fun body ->\n",
    "      Printf.printf \"Body of length: %d\\n\" (String.length body);\n",
    "      body\n",
    "\n",
    "let () =\n",
    "  let respBody = Lwt_main.run test_post in\n",
    "  print_endline (respBody)"
   ]
  },
  {
   "cell_type": "code",
   "execution_count": null,
   "metadata": {},
   "outputs": [],
   "source": []
  }
 ],
 "metadata": {
  "kernelspec": {
   "display_name": "OCaml 4.11",
   "language": "OCaml",
   "name": "ocaml-jupyter"
  },
  "language_info": {
   "codemirror_mode": "text/x-ocaml",
   "file_extension": ".ml",
   "mimetype": "text/x-ocaml",
   "name": "OCaml",
   "nbconverter_exporter": null,
   "pygments_lexer": "OCaml",
   "version": "4.11.1"
  }
 },
 "nbformat": 4,
 "nbformat_minor": 4
}
