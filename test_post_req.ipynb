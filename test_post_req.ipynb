{
 "cells": [
  {
   "cell_type": "code",
   "execution_count": 3,
   "metadata": {},
   "outputs": [
    {
     "name": "stdout",
     "output_type": "stream",
     "text": [
      "val to_string :\n",
      "  [> `String of 'a ] -> ('a, [> `Msg of string ]) Rresult.result = <fun>\n",
      "val to_bool : [> `Bool of 'a ] -> ('a, [> `Msg of string ]) Rresult.result =\n",
      "  <fun>\n",
      "val to_float : [> `Float of 'a ] -> ('a, [> `Msg of string ]) Rresult.result =\n",
      "  <fun>\n",
      "val map :\n",
      "  ('a -> 'b) ->\n",
      "  [> `A of 'a list ] ->\n",
      "  ([> `A of 'b list ], [> `Msg of string ]) Rresult.result = <fun>\n"
     ]
    }
   ],
   "source": [
    "#require \"core\";;\n",
    "#require \"yaml\";;\n",
    "#require \"fpath\"\n",
    "#require \"yaml.unix\"\n",
    "#require \"lwt\"\n",
    "#require \"cohttp\"\n",
    "#require \"cohttp-lwt-unix\"\n",
    "#require \"yojson\"\n",
    "#require \"ppx_yojson_conv\"\n",
    "#use \"/home/opam/work/lib/util.ml\"\n"
   ]
  },
  {
   "cell_type": "code",
   "execution_count": 13,
   "metadata": {},
   "outputs": [
    {
     "data": {
      "text/plain": [
       "val keyvallist_to_form_urlencoded :\n",
       "  (string * string) list -> Cohttp_lwt.Body.t = <fun>\n"
      ]
     },
     "execution_count": 13,
     "metadata": {},
     "output_type": "execute_result"
    },
    {
     "data": {
      "text/plain": [
       "val keyvallist_to_form_json : (string * string) list -> Cohttp_lwt.Body.t =\n",
       "  <fun>\n"
      ]
     },
     "execution_count": 13,
     "metadata": {},
     "output_type": "execute_result"
    },
    {
     "data": {
      "text/plain": [
       "val alpaca_secret : string = \"qEmsGIbj8WSBK3DLVDlwcB6KJ3JsLcndnuCHdLIu\"\n",
       "val alpaca_key : string = \"PKLDSENB0U8ST5KZI612\"\n"
      ]
     },
     "execution_count": 13,
     "metadata": {},
     "output_type": "execute_result"
    },
    {
     "data": {
      "text/plain": [
       "val headers : Cohttp.Header.t = <abstr>\n"
      ]
     },
     "execution_count": 13,
     "metadata": {},
     "output_type": "execute_result"
    },
    {
     "data": {
      "text/plain": [
       "type order = {\n",
       "  symbol : string;\n",
       "  qty : int;\n",
       "  side : string;\n",
       "  typexx : string;\n",
       "  time_in_force : string;\n",
       "}\n",
       "val order_of_yojson : Ppx_yojson_conv_lib.Yojson.Safe.t -> order = <fun>\n",
       "val yojson_of_order : order -> Ppx_yojson_conv_lib.Yojson.Safe.t = <fun>\n"
      ]
     },
     "execution_count": 13,
     "metadata": {},
     "output_type": "execute_result"
    },
    {
     "data": {
      "text/plain": [
       "val order : order =\n",
       "  {symbol = \"MSFT\"; qty = 10; side = \"buy\"; typexx = \"market\";\n",
       "   time_in_force = \"day\"}\n"
      ]
     },
     "execution_count": 13,
     "metadata": {},
     "output_type": "execute_result"
    },
    {
     "data": {
      "text/plain": [
       "val stripchars : string -> string -> string = <fun>\n"
      ]
     },
     "execution_count": 13,
     "metadata": {},
     "output_type": "execute_result"
    },
    {
     "data": {
      "text/plain": [
       "val _body : string =\n",
       "  \"{\\\"symbol\\\":\\\"MSFT\\\",\\\"qty\\\":10,\\\"side\\\":\\\"buy\\\",\\\"typexx\\\":\\\"market\\\",\\\"time_in_force\\\":\\\"day\\\"}\"\n"
      ]
     },
     "execution_count": 13,
     "metadata": {},
     "output_type": "execute_result"
    },
    {
     "data": {
      "text/plain": [
       "val body : Cohttp_lwt.Body.t =\n",
       "  `String\n",
       "    \"{\\\"symbol\\\":\\\"MSFT\\\",\\\"qty\\\":10,\\\"side\\\":\\\"buy\\\",\\\"type\\\":\\\"market\\\",\\\"time_in_force\\\":\\\"day\\\"}\"\n"
      ]
     },
     "execution_count": 13,
     "metadata": {},
     "output_type": "execute_result"
    },
    {
     "data": {
      "text/plain": [
       "val order_list : (string * string) list =\n",
       "  [(\"symbol\", \"MSFT\"); (\"qyt\", \"10\"); (\"side\", \"buy\"); (\"type\", \"market\");\n",
       "   (\"time_in_force\", \"day\")]\n"
      ]
     },
     "execution_count": 13,
     "metadata": {},
     "output_type": "execute_result"
    },
    {
     "data": {
      "text/plain": [
       "val test_post : string Lwt.t = <abstr>\n"
      ]
     },
     "execution_count": 13,
     "metadata": {},
     "output_type": "execute_result"
    },
    {
     "name": "stdout",
     "output_type": "stream",
     "text": [
      "Response code: 200\n",
      "Headers: access-control-allow-credentials: true\n",
      "connection: keep-alive\n",
      "content-length: 735\n",
      "content-type: application/json; charset=UTF-8\n",
      "date: Fri, 05 Feb 2021 17:30:19 GMT\n",
      "server: nginx/1.16.1\n",
      "vary: Origin\n",
      "\n",
      "\n",
      "Body of length: 735\n",
      "{\"id\":\"eac88bba-0c80-4149-b174-d152fe307c2e\",\"client_order_id\":\"656917ac-2860-47c8-b673-c27ee727ecc3\",\"created_at\":\"2021-02-05T17:30:19.497139Z\",\"updated_at\":\"2021-02-05T17:30:19.497139Z\",\"submitted_at\":\"2021-02-05T17:30:19.483706Z\",\"filled_at\":null,\"expired_at\":null,\"canceled_at\":null,\"failed_at\":null,\"replaced_at\":null,\"replaced_by\":null,\"replaces\":null,\"asset_id\":\"b6d1aa75-5c9c-4353-a305-9e2caa1925ab\",\"symbol\":\"MSFT\",\"asset_class\":\"us_equity\",\"qty\":\"10\",\"filled_qty\":\"0\",\"filled_avg_price\":null,\"order_class\":\"\",\"order_type\":\"market\",\"type\":\"market\",\"side\":\"buy\",\"time_in_force\":\"day\",\"limit_price\":null,\"stop_price\":null,\"status\":\"accepted\",\"extended_hours\":false,\"legs\":null,\"trail_percent\":null,\"trail_price\":null,\"hwm\":null}\n"
     ]
    }
   ],
   "source": [
    "open Lwt\n",
    "open Cohttp\n",
    "open Cohttp_lwt_unix\n",
    "\n",
    "\n",
    "let keyvallist_to_form_urlencoded p =\n",
    "  p |> List.map (fun (k,v) -> Printf.sprintf \"%s=%s\" k v)\n",
    "  |> String.concat \"&\"\n",
    "  |> Cohttp_lwt.Body.of_string\n",
    "\n",
    "let keyvallist_to_form_json p = p\n",
    "  |> List.map (fun (k,v) -> Printf.sprintf {|\"%s\": \"%s\"|} k v)\n",
    "  |> String.concat \", \"\n",
    "  |> Printf.sprintf \"{%s}\"\n",
    "  |> Cohttp_lwt.Body.of_string\n",
    "\n",
    "let (alpaca_secret, alpaca_key) = \n",
    "  let yaml = Yaml_unix.of_file_exn (Fpath.v \"keys.paper.yaml\") in\n",
    "  let key = yaml |> get_value \"key\" |> get_string_opt |> get_string in \n",
    "  let secret = yaml |> get_value \"secret\" |> get_string_opt |> get_string in\n",
    "  (secret, key)\n",
    "\n",
    "let headers = Header.init ()\n",
    "  |> fun h -> Header.add_list h \n",
    "              [(\"APCA-API-KEY-ID\", alpaca_key); \n",
    "               (\"APCA-API-SECRET-KEY\", alpaca_secret)]\n",
    "\n",
    "type order = {\n",
    "  symbol: string;\n",
    "  qty: int;\n",
    "  side: string;\n",
    "  typexx: string;\n",
    "  time_in_force: string;\n",
    "} [@@deriving yojson]\n",
    "\n",
    "let order = {\n",
    "  symbol= \"MSFT\";\n",
    "  qty=10;\n",
    "  side=\"buy\";\n",
    "  typexx=\"market\";\n",
    "  time_in_force=\"day\";\n",
    "}\n",
    "\n",
    "let stripchars s cs =\n",
    "  let len = String.length s in\n",
    "  let res = Bytes.create len in\n",
    "  let rec aux i j =\n",
    "    if i >= len\n",
    "    then Bytes.to_string (Bytes.sub res 0 j)\n",
    "    else if String.contains cs s.[i] then\n",
    "      aux (succ i) (j)\n",
    "    else begin\n",
    "      Bytes.set res j s.[i];\n",
    "      aux (succ i) (succ j)\n",
    "    end\n",
    "  in\n",
    "  aux 0 0\n",
    "\n",
    "let _body = yojson_of_order order |> Yojson.Safe.to_string\n",
    "let body = Cohttp_lwt.Body.of_string (stripchars _body \"xx\")\n",
    "\n",
    "let order_list = [(\"symbol\", \"MSFT\"); (\"qyt\",\"10\"); (\"side\",\"buy\"); (\"type\",\"market\"); (\"time_in_force\",\"day\")]\n",
    "\n",
    "let test_post =\n",
    "  let uri = Uri.of_string \"https://paper-api.alpaca.markets/v2/orders\" in\n",
    "    Cohttp_lwt_unix.Client.post ~headers ~body uri >>= fun (resp, body) ->\n",
    "      let code = resp |> Response.status |> Code.code_of_status in\n",
    "      Printf.printf \"Response code: %d\\n\" code;\n",
    "      Printf.printf \"Headers: %s\\n\" (resp |> Response.headers |> Header.to_string);\n",
    "      body |> Cohttp_lwt.Body.to_string >|= fun body ->\n",
    "      Printf.printf \"Body of length: %d\\n\" (String.length body);\n",
    "      body\n",
    "\n",
    "let () =\n",
    "  let respBody = Lwt_main.run test_post in\n",
    "  print_endline (respBody)"
   ]
  },
  {
   "cell_type": "code",
   "execution_count": null,
   "metadata": {},
   "outputs": [],
   "source": [
    "let body = keyvallist_to_form_json order_list "
   ]
  },
  {
   "cell_type": "code",
   "execution_count": null,
   "metadata": {},
   "outputs": [],
   "source": [
    "  let body = keyvallist_to_form_urlencoded order_list in"
   ]
  },
  {
   "cell_type": "code",
   "execution_count": 4,
   "metadata": {},
   "outputs": [
    {
     "data": {
      "text/plain": [
       "type order = {\n",
       "  symbol : string;\n",
       "  qty : int;\n",
       "  side : string;\n",
       "  type_trade : string;\n",
       "  time_in_force : string;\n",
       "}\n",
       "val order_of_yojson : Ppx_yojson_conv_lib.Yojson.Safe.t -> order = <fun>\n",
       "val yojson_of_order : order -> Ppx_yojson_conv_lib.Yojson.Safe.t = <fun>\n"
      ]
     },
     "execution_count": 4,
     "metadata": {},
     "output_type": "execute_result"
    }
   ],
   "source": [
    "type order = {\n",
    "  symbol: string;\n",
    "  qty: int;\n",
    "  side: string;\n",
    "  type_trade: string;\n",
    "  time_in_force: string;\n",
    "} [@@deriving yojson]"
   ]
  },
  {
   "cell_type": "code",
   "execution_count": 9,
   "metadata": {},
   "outputs": [
    {
     "data": {
      "text/plain": [
       "type order = {\n",
       "  symbol : string;\n",
       "  qty : int;\n",
       "  side : string;\n",
       "  type_ : string;\n",
       "  time_in_force : string;\n",
       "}\n",
       "val order_of_yojson : Ppx_yojson_conv_lib.Yojson.Safe.t -> order = <fun>\n",
       "val yojson_of_order : order -> Ppx_yojson_conv_lib.Yojson.Safe.t = <fun>\n"
      ]
     },
     "execution_count": 9,
     "metadata": {},
     "output_type": "execute_result"
    },
    {
     "data": {
      "text/plain": [
       "val order : order =\n",
       "  {symbol = \"MSFT\"; qty = 10; side = \"buy\"; type_ = \"market\";\n",
       "   time_in_force = \"day\"}\n"
      ]
     },
     "execution_count": 9,
     "metadata": {},
     "output_type": "execute_result"
    },
    {
     "data": {
      "text/plain": [
       "val stripchars : string -> string -> string = <fun>\n"
      ]
     },
     "execution_count": 9,
     "metadata": {},
     "output_type": "execute_result"
    },
    {
     "data": {
      "text/plain": [
       "val _body : string =\n",
       "  \"{\\\"symbol\\\":\\\"MSFT\\\",\\\"qty\\\":10,\\\"side\\\":\\\"buy\\\",\\\"type_\\\":\\\"market\\\",\\\"time_in_force\\\":\\\"day\\\"}\"\n"
      ]
     },
     "execution_count": 9,
     "metadata": {},
     "output_type": "execute_result"
    },
    {
     "data": {
      "text/plain": [
       "val body : string =\n",
       "  \"{\\\"symbol\\\":\\\"MSFT\\\",\\\"qty\\\":10,\\\"side\\\":\\\"buy\\\",\\\"type\\\":\\\"market\\\",\\\"timeinforce\\\":\\\"day\\\"}\"\n"
      ]
     },
     "execution_count": 9,
     "metadata": {},
     "output_type": "execute_result"
    }
   ],
   "source": [
    "type order = {\n",
    "  symbol: string;\n",
    "  qty: int;\n",
    "  side: string;\n",
    "  type_: string;\n",
    "  time_in_force: string;\n",
    "} [@@deriving yojson]\n",
    "\n",
    "let order = {\n",
    "  symbol= \"MSFT\";\n",
    "  qty=10;\n",
    "  side=\"buy\";\n",
    "  type_=\"market\";\n",
    "  time_in_force=\"day\";\n",
    "}\n",
    "\n",
    "let stripchars s cs =\n",
    "  let len = String.length s in\n",
    "  let res = Bytes.create len in\n",
    "  let rec aux i j =\n",
    "    if i >= len\n",
    "    then Bytes.to_string (Bytes.sub res 0 j)\n",
    "    else if String.contains cs s.[i] then\n",
    "      aux (succ i) (j)\n",
    "    else begin\n",
    "      Bytes.set res j s.[i];\n",
    "      aux (succ i) (succ j)\n",
    "    end\n",
    "  in\n",
    "  aux 0 0\n",
    "\n",
    "let _body = yojson_of_order order |> Yojson.Safe.to_string\n",
    "let body = stripchars _body \"_\""
   ]
  },
  {
   "cell_type": "code",
   "execution_count": null,
   "metadata": {},
   "outputs": [],
   "source": []
  }
 ],
 "metadata": {
  "kernelspec": {
   "display_name": "OCaml 4.11",
   "language": "OCaml",
   "name": "ocaml-jupyter"
  },
  "language_info": {
   "codemirror_mode": "text/x-ocaml",
   "file_extension": ".ml",
   "mimetype": "text/x-ocaml",
   "name": "OCaml",
   "nbconverter_exporter": null,
   "pygments_lexer": "OCaml",
   "version": "4.11.1"
  }
 },
 "nbformat": 4,
 "nbformat_minor": 4
}
