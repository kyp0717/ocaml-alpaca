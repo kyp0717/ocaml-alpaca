{
 "cells": [
  {
   "cell_type": "code",
   "execution_count": null,
   "metadata": {},
   "outputs": [],
   "source": [
    "#require \"core\";;\n",
    "#require \"yaml\";;\n",
    "#require \"fpath\"\n",
    "#require \"yaml.unix\"\n",
    "#require \"lwt\"\n",
    "#require \"cohttp\"\n",
    "#require \"cohttp-lwt-unix\"\n",
    "#require \"yojson\"\n",
    "#require \"ppx_yojson_conv\"\n",
    "#use \"/home/opam/work/lib/util.ml\"\n"
   ]
  },
  {
   "cell_type": "code",
   "execution_count": null,
   "metadata": {},
   "outputs": [],
   "source": [
    "open Lwt\n",
    "open Cohttp\n",
    "open Cohttp_lwt_unix\n",
    "\n",
    "\n",
    "let keyvallist_to_form_urlencoded p =\n",
    "  p |> List.map (fun (k,v) -> Printf.sprintf \"%s=%s\" k v)\n",
    "  |> String.concat \"&\"\n",
    "  |> Cohttp_lwt.Body.of_string\n",
    "\n",
    "let keyvallist_to_form_json p = p\n",
    "  |> List.map (fun (k,v) -> Printf.sprintf {|\"%s\": \"%s\"|} k v)\n",
    "  |> String.concat \", \"\n",
    "  |> Printf.sprintf \"{%s}\"\n",
    "  |> Cohttp_lwt.Body.of_string\n",
    "\n",
    "let (alpaca_secret, alpaca_key) = \n",
    "  let yaml = Yaml_unix.of_file_exn (Fpath.v \"keys.paper.yaml\") in\n",
    "  let key = yaml |> get_value \"key\" |> get_string_opt |> get_string in \n",
    "  let secret = yaml |> get_value \"secret\" |> get_string_opt |> get_string in\n",
    "  (secret, key)\n",
    "\n",
    "let headers = Header.init ()\n",
    "  |> fun h -> Header.add_list h \n",
    "              [(\"APCA-API-KEY-ID\", alpaca_key); \n",
    "               (\"APCA-API-SECRET-KEY\", alpaca_secret)]\n",
    "            \n",
    "let order_list = [(\"symbol\", \"MSFT\"); (\"qyt\",\"10\"); (\"side\",\"buy\"); (\"type\",\"market\"); (\"time_in_force\",\"day\")]\n",
    "\n",
    "let test_post =\n",
    "  let uri = Uri.of_string \"https://paper-api.alpaca.markets/v2/orders\" in\n",
    "  let body = keyvallist_to_form_json order_list in\n",
    "    Cohttp_lwt_unix.Client.post ~headers ~body uri >>= fun (resp, body) ->\n",
    "      let code = resp |> Response.status |> Code.code_of_status in\n",
    "      Printf.printf \"Response code: %d\\n\" code;\n",
    "      Printf.printf \"Headers: %s\\n\" (resp |> Response.headers |> Header.to_string);\n",
    "      body |> Cohttp_lwt.Body.to_string >|= fun body ->\n",
    "      Printf.printf \"Body of length: %d\\n\" (String.length body);\n",
    "      body\n",
    "\n",
    "let () =\n",
    "  let respBody = Lwt_main.run test_post in\n",
    "  print_endline (respBody)"
   ]
  },
  {
   "cell_type": "code",
   "execution_count": null,
   "metadata": {},
   "outputs": [],
   "source": [
    "let body = keyvallist_to_form_json order_list "
   ]
  },
  {
   "cell_type": "code",
   "execution_count": null,
   "metadata": {},
   "outputs": [],
   "source": [
    "  let body = keyvallist_to_form_urlencoded order_list in"
   ]
  },
  {
   "cell_type": "code",
   "execution_count": 20,
   "metadata": {},
   "outputs": [
    {
     "data": {
      "text/plain": [
       "type order = { stock : string; qty : int; }\n",
       "val order_to_yojson : order -> Yojson.Safe.t = <fun>\n",
       "val order_of_yojson :\n",
       "  Yojson.Safe.t -> order Ppx_deriving_yojson_runtime.error_or = <fun>\n",
       "val _ : Yojson.Safe.t -> order Ppx_deriving_yojson_runtime.error_or = <fun>\n"
      ]
     },
     "execution_count": 20,
     "metadata": {},
     "output_type": "execute_result"
    }
   ],
   "source": [
    "type order = {\n",
    "  stock: string;\n",
    "  qty: int;\n",
    "} [@@deriving yojson]"
   ]
  },
  {
   "cell_type": "code",
   "execution_count": null,
   "metadata": {},
   "outputs": [],
   "source": [
    "let msft_order = {\n",
    "  stock= \"MSFT\";\n",
    "  qty= 10\n",
    "}"
   ]
  },
  {
   "cell_type": "code",
   "execution_count": null,
   "metadata": {},
   "outputs": [],
   "source": [
    "let o1 = order_to_yojson msft_order "
   ]
  },
  {
   "cell_type": "code",
   "execution_count": 21,
   "metadata": {},
   "outputs": [
    {
     "data": {
      "text/plain": [
       "val o2 : string = \"{\\\"stock\\\":\\\"MSFT\\\",\\\"qty\\\":10}\"\n"
      ]
     },
     "execution_count": 21,
     "metadata": {},
     "output_type": "execute_result"
    }
   ],
   "source": [
    "let o2 = o1 |> Yojson.Safe.to_string"
   ]
  },
  {
   "cell_type": "code",
   "execution_count": null,
   "metadata": {},
   "outputs": [],
   "source": []
  }
 ],
 "metadata": {
  "kernelspec": {
   "display_name": "OCaml 4.11",
   "language": "OCaml",
   "name": "ocaml-jupyter"
  },
  "language_info": {
   "codemirror_mode": "text/x-ocaml",
   "file_extension": ".ml",
   "mimetype": "text/x-ocaml",
   "name": "OCaml",
   "nbconverter_exporter": null,
   "pygments_lexer": "OCaml",
   "version": "4.11.1"
  }
 },
 "nbformat": 4,
 "nbformat_minor": 4
}
