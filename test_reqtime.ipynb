{
 "cells": [
  {
   "cell_type": "code",
   "execution_count": null,
   "metadata": {},
   "outputs": [],
   "source": [
    "#require \"core\";;\n",
    "#require \"yaml.unix\";;\n",
    "#require \"yaml\";;\n",
    "#require \"fpath\"\n",
    "#require \"yaml.unix\"\n",
    "#require \"lwt\"\n",
    "#require \"cohttp\"\n",
    "#require \"cohttp-lwt-unix\"\n",
    "#use \"/home/opam/work/lib/util.ml\""
   ]
  },
  {
   "cell_type": "code",
   "execution_count": 4,
   "metadata": {},
   "outputs": [
    {
     "data": {
      "text/plain": [
       "val alpaca_secret : string = \"qEmsGIbj8WSBK3DLVDlwcB6KJ3JsLcndnuCHdLIu\"\n",
       "val alpaca_key : string = \"PKLDSENB0U8ST5KZI612\"\n"
      ]
     },
     "execution_count": 4,
     "metadata": {},
     "output_type": "execute_result"
    },
    {
     "data": {
      "text/plain": [
       "val headers : Cohttp.Header.t = <abstr>\n"
      ]
     },
     "execution_count": 4,
     "metadata": {},
     "output_type": "execute_result"
    },
    {
     "data": {
      "text/plain": [
       "val paca_time : string Lwt.t = <abstr>\n"
      ]
     },
     "execution_count": 4,
     "metadata": {},
     "output_type": "execute_result"
    },
    {
     "name": "stdout",
     "output_type": "stream",
     "text": [
      "Response code: 200\n",
      "Headers: access-control-allow-credentials: true\n",
      "connection: keep-alive\n",
      "content-length: 147\n",
      "content-type: application/json; charset=UTF-8\n",
      "date: Fri, 05 Feb 2021 15:10:13 GMT\n",
      "server: nginx/1.16.1\n",
      "vary: Origin\n",
      "\n",
      "\n",
      "Body of length: 147\n",
      "{\"timestamp\":\"2021-02-05T10:10:13.382865659-05:00\",\"is_open\":true,\"next_open\":\"2021-02-08T09:30:00-05:00\",\"next_close\":\"2021-02-05T16:00:00-05:00\"}\n"
     ]
    }
   ],
   "source": [
    "open Lwt\n",
    "open Cohttp\n",
    "open Cohttp_lwt_unix\n",
    "\n",
    "let (alpaca_secret, alpaca_key) = \n",
    "  let yaml = Yaml_unix.of_file_exn (Fpath.v \"keys.paper.yaml\") in\n",
    "  let key = yaml |> get_value \"key\" |> get_string_opt |> get_string in \n",
    "  let secret = yaml |> get_value \"secret\" |> get_string_opt |> get_string in\n",
    "  (secret, key)\n",
    "  \n",
    "let headers = Header.init ()\n",
    "  |> fun h -> Header.add_list h \n",
    "              [(\"APCA-API-KEY-ID\", alpaca_key); \n",
    "               (\"APCA-API-SECRET-KEY\", alpaca_secret)]\n",
    "            \n",
    "\n",
    "let paca_time =\n",
    "  let uri = Uri.of_string \"https://paper-api.alpaca.markets/v2/clock\" in\n",
    "    Cohttp_lwt_unix.Client.get ~headers  uri >>= fun (resp, body) ->\n",
    "      let code = resp |> Response.status |> Code.code_of_status in\n",
    "      Printf.printf \"Response code: %d\\n\" code;\n",
    "      Printf.printf \"Headers: %s\\n\" (resp |> Response.headers |> Header.to_string);\n",
    "      body |> Cohttp_lwt.Body.to_string >|= fun body ->\n",
    "      Printf.printf \"Body of length: %d\\n\" (String.length body);\n",
    "      body\n",
    "\n",
    "let () =\n",
    "  let respBody = Lwt_main.run paca_time in\n",
    "  print_endline (respBody)"
   ]
  },
  {
   "cell_type": "code",
   "execution_count": null,
   "metadata": {},
   "outputs": [],
   "source": []
  }
 ],
 "metadata": {
  "kernelspec": {
   "display_name": "OCaml 4.11",
   "language": "OCaml",
   "name": "ocaml-jupyter"
  },
  "language_info": {
   "codemirror_mode": "text/x-ocaml",
   "file_extension": ".ml",
   "mimetype": "text/x-ocaml",
   "name": "OCaml",
   "nbconverter_exporter": null,
   "pygments_lexer": "OCaml",
   "version": "4.11.1"
  }
 },
 "nbformat": 4,
 "nbformat_minor": 4
}
