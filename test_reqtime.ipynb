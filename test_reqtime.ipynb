{
 "cells": [
  {
   "cell_type": "code",
   "execution_count": null,
   "metadata": {},
   "outputs": [],
   "source": [
    "#require \"yaml\""
   ]
  },
  {
   "cell_type": "code",
   "execution_count": 1,
   "metadata": {},
   "outputs": [
    {
     "data": {
      "text/plain": [
       "val yf : string = \"key1: val1\\nkey2: val2\"\n"
      ]
     },
     "execution_count": 1,
     "metadata": {},
     "output_type": "execute_result"
    }
   ],
   "source": [
    "let yf = \n",
    "\"key1: val1\n",
    "key2: val2\""
   ]
  },
  {
   "cell_type": "code",
   "execution_count": 3,
   "metadata": {},
   "outputs": [
    {
     "data": {
      "text/plain": [
       "val y : Yaml.value Yaml.res =\n",
       "  Result.Ok (`O [(\"key1\", `String \"val1\"); (\"key2\", `String \"val2\")])\n"
      ]
     },
     "execution_count": 3,
     "metadata": {},
     "output_type": "execute_result"
    }
   ],
   "source": [
    "let y = Yaml.of_string yf"
   ]
  },
  {
   "cell_type": "code",
   "execution_count": null,
   "metadata": {},
   "outputs": [],
   "source": [
    "let (alpaca_secret, alpaca_key) = \n",
    "  let yaml = Yaml_unix.of_file_exn (Fpath.v \"keys.paper.yaml\") in\n",
    "  let key = yaml |> get_value \"key\" |> get_string_opt |> get_string in \n",
    "  let secret = yaml |> get_value \"secret\" |> get_string_opt |> get_string in\n",
    "  (secret, key)"
   ]
  },
  {
   "cell_type": "code",
   "execution_count": null,
   "metadata": {},
   "outputs": [
    {
     "name": "stderr",
     "output_type": "stream",
     "text": [
      "File \"[2]\", line 1, characters 13-14Parse error: [type_kind] expected after \"=\" (in [opt_eq_pluseq_ctyp])\n",
      "Uncaught exception:\n",
      "  \n",
      "  Exit\n",
      "\n",
      "Raised at file \"camlp4/Camlp4Top/Top.ml\", line 61, characters 14-18\n",
      "Called from file \"jupyter/src/repl/evaluation.ml\", line 109, characters 24-56\n",
      "Re-raised at file \"parsing/location.ml\", line 925, characters 22-25\n",
      "Called from file \"error.cppo.ml\", line 147, characters 2-29\n",
      "Called from file \"jupyter/src/repl/evaluation.ml\", line 115, characters 14-62\n",
      "Called from file \"jupyter/src/repl/process.ml\", line 73, characters 8-80\n",
      "Called from file \"jupyter/src/repl/process.ml\", line 76, characters 8-38\n",
      "Called from file \"jupyter/bin/jupyter_main.ml\", line 47, characters 4-149\n"
     ]
    },
    {
     "name": "stdout",
     "output_type": "stream",
     "text": [
      "Raised at file \"stdlib.ml\", line 30, characters 25-45\n",
      "Called from file \"toplevel/toploop.ml\", line 493, characters 4-128\n",
      "Called from file \"toplevel/topdirs.ml\", line 149, characters 11-23\n"
     ]
    }
   ],
   "source": [
    "type _ gyaml = \n",
    "  | Gstring : `String s -> gyaml"
   ]
  },
  {
   "cell_type": "code",
   "execution_count": null,
   "metadata": {},
   "outputs": [],
   "source": [
    "let to_gyaml =\n",
    "  | `String s -> s"
   ]
  },
  {
   "cell_type": "code",
   "execution_count": null,
   "metadata": {},
   "outputs": [],
   "source": []
  }
 ],
 "metadata": {
  "kernelspec": {
   "display_name": "OCaml 4.10.0",
   "language": "OCaml",
   "name": "ocaml-jupyter"
  },
  "language_info": {
   "name": ""
  }
 },
 "nbformat": 4,
 "nbformat_minor": 4
}
