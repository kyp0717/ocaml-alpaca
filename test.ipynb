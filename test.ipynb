{
 "cells": [
  {
   "cell_type": "code",
   "execution_count": 6,
   "metadata": {},
   "outputs": [
    {
     "data": {
      "text/plain": [
       "val yaml_file : string = \"key1: val1\\n key2: val2\"\n"
      ]
     },
     "execution_count": 6,
     "metadata": {},
     "output_type": "execute_result"
    }
   ],
   "source": [
    "let yaml_file =\n",
    "\"key1: val1\n",
    " key2: val2\""
   ]
  },
  {
   "cell_type": "code",
   "execution_count": 7,
   "metadata": {},
   "outputs": [
    {
     "data": {
      "text/plain": [
       "- : string list = [\"key1: val1\"; \" key2: val2\"]\n"
      ]
     },
     "execution_count": 7,
     "metadata": {},
     "output_type": "execute_result"
    }
   ],
   "source": [
    "Core.String.split ~on:'\\n' yaml_file"
   ]
  },
  {
   "cell_type": "code",
   "execution_count": 8,
   "metadata": {},
   "outputs": [
    {
     "data": {
      "text/plain": [
       "- : string list = [\"aaa\"; \"bbb\"]\n"
      ]
     },
     "execution_count": 8,
     "metadata": {},
     "output_type": "execute_result"
    }
   ],
   "source": [
    "String.split_on_char ':' \"aaa:bbb\""
   ]
  },
  {
   "cell_type": "markdown",
   "metadata": {},
   "source": [
    "#Haskell tree \n",
    "data Mytree a =\n",
    "  | Leaf a\n",
    "  | Node (Mytree (a,a))"
   ]
  },
  {
   "cell_type": "code",
   "execution_count": 12,
   "metadata": {},
   "outputs": [
    {
     "data": {
      "text/plain": [
       "- : int = 2\n"
      ]
     },
     "execution_count": 12,
     "metadata": {},
     "output_type": "execute_result"
    }
   ],
   "source": [
    "depth (Node (Leaf (1,1)))"
   ]
  },
  {
   "cell_type": "code",
   "execution_count": 6,
   "metadata": {},
   "outputs": [
    {
     "data": {
      "text/plain": [
       "type 'a mytree = Leaf of 'a | Node of ('a * 'a) mytree\n"
      ]
     },
     "execution_count": 6,
     "metadata": {},
     "output_type": "execute_result"
    },
    {
     "data": {
      "text/plain": [
       "val depth : 'a mytree -> int = <fun>\n"
      ]
     },
     "execution_count": 6,
     "metadata": {},
     "output_type": "execute_result"
    }
   ],
   "source": [
    "type 'a mytree = \n",
    "  | Leaf of 'a \n",
    "  | Node of ('a * 'a) mytree\n",
    "\n",
    "let rec depth :  'a. 'a mytree -> 'b = function\n",
    "    Leaf _ -> 1\n",
    "  | Node x -> 1 + depth x"
   ]
  },
  {
   "cell_type": "code",
   "execution_count": 26,
   "metadata": {},
   "outputs": [
    {
     "data": {
      "text/plain": [
       "val depth : 'a mytree -> int = <fun>\n"
      ]
     },
     "execution_count": 26,
     "metadata": {},
     "output_type": "execute_result"
    }
   ],
   "source": [
    "let rec depth : 'a. 'a mytree -> 'b = function\n",
    "    Leaf _ -> 1\n",
    "  | Node x -> 1 + depth x"
   ]
  },
  {
   "cell_type": "code",
   "execution_count": 4,
   "metadata": {},
   "outputs": [
    {
     "ename": "error",
     "evalue": "compile_error",
     "output_type": "error",
     "traceback": [
      "File \"[4]\", line 3, characters 24-25:\n3 |   | Node x -> 1 + depth x\n                            ^\nError: This expression has type ('a * 'a) t\n       but an expression was expected of type 'a t\n       The type variable 'a occurs inside 'a * 'a\n"
     ]
    }
   ],
   "source": [
    "let rec depth  = function\n",
    "    Leaf _ -> 1\n",
    "  | Node x -> 1 + depth x"
   ]
  },
  {
   "cell_type": "code",
   "execution_count": 10,
   "metadata": {},
   "outputs": [
    {
     "data": {
      "text/plain": [
       "type 'a btree = Empty | Node of 'a * 'a btree * 'a btree\n"
      ]
     },
     "execution_count": 10,
     "metadata": {},
     "output_type": "execute_result"
    }
   ],
   "source": [
    "type 'a btree =\n",
    "  | Empty\n",
    "  | Node of 'a * 'a btree * 'a btree"
   ]
  },
  {
   "cell_type": "code",
   "execution_count": 16,
   "metadata": {},
   "outputs": [
    {
     "data": {
      "text/plain": [
       "- : char btree = Node (a, Node (b, Empty, Empty), Node (c, Empty, Empty))\n"
      ]
     },
     "execution_count": 16,
     "metadata": {},
     "output_type": "execute_result"
    }
   ],
   "source": [
    "Node ('a', \n",
    "      Node ('b', Empty, Empty), \n",
    "      Node ('c', Empty, Empty)\n",
    "      )"
   ]
  },
  {
   "cell_type": "code",
   "execution_count": 1,
   "metadata": {},
   "outputs": [
    {
     "data": {
      "text/plain": [
       "val concat_and_print : string -> string -> string = <fun>\n"
      ]
     },
     "execution_count": 1,
     "metadata": {},
     "output_type": "execute_result"
    },
    {
     "data": {
      "text/plain": [
       "val add_and_print : int -> int -> int = <fun>\n"
      ]
     },
     "execution_count": 1,
     "metadata": {},
     "output_type": "execute_result"
    },
    {
     "name": "stdout",
     "output_type": "stream",
     "text": [
      "3\n",
      "ab\n"
     ]
    }
   ],
   "source": [
    "let concat_and_print x y =\n",
    "  let v = x ^ y in\n",
    "  print_endline v;\n",
    "  v\n",
    "\n",
    "let add_and_print x y =\n",
    "  let v = x + y in\n",
    "  print_endline (string_of_int v);\n",
    "  v\n",
    "\n",
    "let () =\n",
    "  let _x = add_and_print 1 2 in\n",
    "  let _y = concat_and_print \"a\" \"b\" in\n",
    "  ()"
   ]
  },
  {
   "cell_type": "code",
   "execution_count": 2,
   "metadata": {},
   "outputs": [
    {
     "data": {
      "text/plain": [
       "val f : 'a list -> int = <fun>\n"
      ]
     },
     "execution_count": 2,
     "metadata": {},
     "output_type": "execute_result"
    }
   ],
   "source": [
    "let f:'a. 'a list -> int = fun l -> List.length l;;\n"
   ]
  },
  {
   "cell_type": "code",
   "execution_count": 3,
   "metadata": {},
   "outputs": [
    {
     "data": {
      "text/plain": [
       "val f : 'a list -> int = <fun>\n"
      ]
     },
     "execution_count": 3,
     "metadata": {},
     "output_type": "execute_result"
    }
   ],
   "source": [
    "let f: 'a list -> int = fun l -> List.length l;;\n"
   ]
  },
  {
   "cell_type": "code",
   "execution_count": 4,
   "metadata": {},
   "outputs": [
    {
     "data": {
      "text/plain": [
       "val f : 'a list -> int = <fun>\n"
      ]
     },
     "execution_count": 4,
     "metadata": {},
     "output_type": "execute_result"
    }
   ],
   "source": [
    "let f l = List.length l;;\n"
   ]
  },
  {
   "cell_type": "code",
   "execution_count": null,
   "metadata": {},
   "outputs": [],
   "source": [
    "module type Bumpable = sig\n",
    "  type t\n",
    "  val bump : t -> t\n",
    "end\n",
    ";;\n"
   ]
  },
  {
   "cell_type": "code",
   "execution_count": 10,
   "metadata": {},
   "outputs": [
    {
     "data": {
      "text/plain": [
       "module Int_bumper : sig type t = int val bump : int -> int end\n"
      ]
     },
     "execution_count": 10,
     "metadata": {},
     "output_type": "execute_result"
    }
   ],
   "source": [
    "module Int_bumper = struct\n",
    "  type t = int\n",
    "  let bump n = n + 1\n",
    "end"
   ]
  },
  {
   "cell_type": "code",
   "execution_count": 9,
   "metadata": {},
   "outputs": [
    {
     "data": {
      "text/plain": [
       "val int_bumper : (module Bumpable) = <module>\n"
      ]
     },
     "execution_count": 9,
     "metadata": {},
     "output_type": "execute_result"
    }
   ],
   "source": [
    "let int_bumper = (module Int_bumper: Bumpable)"
   ]
  },
  {
   "cell_type": "code",
   "execution_count": 11,
   "metadata": {},
   "outputs": [
    {
     "ename": "error",
     "evalue": "compile_error",
     "output_type": "error",
     "traceback": [
      "File \"[11]\", line 2, characters 12-13:\n2 | Bumper.bump 3\n                ^\nError: This expression has type int but an expression was expected of type\n         Bumper.t\n"
     ]
    }
   ],
   "source": [
    "let (module Bumper) = int_bumper in\n",
    "Bumper.bump 3"
   ]
  },
  {
   "cell_type": "code",
   "execution_count": 14,
   "metadata": {},
   "outputs": [
    {
     "data": {
      "text/plain": [
       "module type M =\n",
       "  sig\n",
       "    type t\n",
       "    val t_of_sexp : Sexplib0__.Sexp.t -> t\n",
       "    val sexp_of_t : t -> Sexplib0__.Sexp.t\n",
       "  end\n"
      ]
     },
     "execution_count": 14,
     "metadata": {},
     "output_type": "execute_result"
    }
   ],
   "source": [
    "module type M = sig \n",
    "  type t [@@deriving sexp] \n",
    "end;;\n"
   ]
  },
  {
   "cell_type": "code",
   "execution_count": null,
   "metadata": {},
   "outputs": [],
   "source": [
    "module type Query_handler = sig\n",
    "  open Base\n",
    "\n",
    "  (** Configuration for a query handler *)\n",
    "  type config\n",
    "\n",
    "  val sexp_of_config : config -> Sexp.t\n",
    "  val config_of_sexp : Sexp.t -> config\n",
    "\n",
    "  (** The name of the query-handling service *)\n",
    "  val name : string\n",
    "\n",
    "  (** The state of the query handler *)\n",
    "  type t\n",
    "\n",
    "  (** Creates a new query handler from a config *)\n",
    "  val create : config -> t\n",
    "\n",
    "  (** Evaluate a given query, where both input and output are\n",
    "      s-expressions *)\n",
    "  val eval : t -> Sexp.t -> Sexp.t Or_error.t\n",
    "end"
   ]
  },
  {
   "cell_type": "code",
   "execution_count": null,
   "metadata": {},
   "outputs": [],
   "source": [
    "module Unique = struct\n",
    "  type config = int [@@deriving sexp]\n",
    "  type t = { mutable next_id: int }\n",
    "\n",
    "  let name = \"unique\"\n",
    "  let create start_at = { next_id = start_at }\n",
    "\n",
    "  let eval t sexp =\n",
    "    match Or_error.try_with (fun () -> unit_of_sexp sexp) with\n",
    "    | Error _ as err -> err\n",
    "    | Ok () ->\n",
    "      let response = Ok (Int.sexp_of_t t.next_id) in\n",
    "      t.next_id <- t.next_id + 1;\n",
    "      response\n",
    "end"
   ]
  }
 ],
 "metadata": {
  "kernelspec": {
   "display_name": "OCaml 4.10.0",
   "language": "OCaml",
   "name": "ocaml-jupyter"
  },
  "language_info": {
   "codemirror_mode": "text/x-ocaml",
   "file_extension": ".ml",
   "mimetype": "text/x-ocaml",
   "name": "OCaml",
   "nbconverter_exporter": null,
   "pygments_lexer": "OCaml",
   "version": "4.11.1"
  }
 },
 "nbformat": 4,
 "nbformat_minor": 4
}
