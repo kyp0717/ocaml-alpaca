{
 "cells": [
  {
   "cell_type": "code",
   "execution_count": null,
   "metadata": {},
   "outputs": [],
   "source": [
    "\n",
    "#require \"core\";;\n",
    "#require \"yaml.unix\";;\n",
    "#require \"yaml\";;\n",
    "#require \"fpath\"\n",
    "#require \"yaml.unix\"\n",
    "#require \"lwt\"\n",
    "#require \"cohttp\"\n",
    "#require \"cohttp-lwt-unix\"\n",
    "open Fpath\n",
    "\n",
    "\n",
    "let s_file = \n",
    "\"key1: val1\n",
    "key2: val2\""
   ]
  },
  {
   "cell_type": "code",
   "execution_count": null,
   "metadata": {},
   "outputs": [],
   "source": [
    "Fpath.v \"keys.paper.yaml\""
   ]
  },
  {
   "cell_type": "code",
   "execution_count": 4,
   "metadata": {},
   "outputs": [
    {
     "data": {
      "text/plain": [
       "val yval : Yaml.value =\n",
       "  `O\n",
       "    [(\"urltrade\", `String \"https://paper-api.alpaca.markets\");\n",
       "     (\"urldata\", `String \"https://data.alpaca.markets\");\n",
       "     (\"urlsocket\", `String \"wss://data.alpaca.markets/stream\");\n",
       "     (\"key\", `String \"PKLDSENB0U8ST5KZI612\");\n",
       "     (\"secret\", `String \"qEmsGIbj8WSBK3DLVDlwcB6KJ3JsLcndnuCHdLIu\")]\n"
      ]
     },
     "execution_count": 4,
     "metadata": {},
     "output_type": "execute_result"
    }
   ],
   "source": [
    "let yval = Yaml_unix.of_file_exn (Fpath.v \"keys.paper.yaml\") "
   ]
  },
  {
   "cell_type": "code",
   "execution_count": null,
   "metadata": {},
   "outputs": [],
   "source": [
    "type empty = Empty\n",
    "\n",
    "exception Yaml_list of string\n",
    "exception Yaml_unknown of string\n",
    "\n",
    "type _ gvalue = \n",
    "  | Vnull : Yaml.value ->   empty gvalue\n",
    "  | Vfloat : Yaml.value -> float gvalue \n",
    "  | Vstring : Yaml.value  -> string gvalue\n",
    "  | Vlist : Yaml.value -> string gvalue\n",
    "\n",
    "\n",
    "let val_to_gval : type a. a gvalue -> a  = function\n",
    " | Vnull (`Null ) -> Empty\n",
    " | Vfloat (`Float x ) -> x\n",
    " | Vstring (`String s ) -> s\n",
    " | Vlist (`O _) ->  raise (Yaml_list \"can't eval yaml list\")\n",
    " | _ -> raise (Yaml_unknown \"unknown yaml value\")\n",
    " "
   ]
  },
  {
   "cell_type": "code",
   "execution_count": 7,
   "metadata": {},
   "outputs": [
    {
     "name": "stdout",
     "output_type": "stream",
     "text": [
      "val get_value :\n",
      "  'a ->\n",
      "  [> `O of ('a * 'b) list ] ->\n",
      "  ('b option, [> `Msg of string ]) Rresult.result = <fun>\n",
      "val get_keys :\n",
      "  [> `O of ('a * 'b) list ] -> ('a list, [> `Msg of string ]) Rresult.result =\n",
      "  <fun>\n",
      "val to_list :\n",
      "  [> `O of ('a * 'b) list ] -> ('b list, [> `Msg of string ]) Rresult.result =\n",
      "  <fun>\n",
      "val get_string : [> `String of 'a ] option -> 'a = <fun>\n",
      "val get_string_opt : ('a option, 'b) Rresult.result -> 'a option = <fun>\n",
      "val to_string :\n",
      "  [> `String of 'a ] -> ('a, [> `Msg of string ]) Rresult.result = <fun>\n",
      "val to_bool : [> `Bool of 'a ] -> ('a, [> `Msg of string ]) Rresult.result =\n",
      "  <fun>\n",
      "val to_float : [> `Float of 'a ] -> ('a, [> `Msg of string ]) Rresult.result =\n",
      "  <fun>\n",
      "val map :\n",
      "  ('a -> 'b) ->\n",
      "  [> `A of 'a list ] ->\n",
      "  ([> `A of 'b list ], [> `Msg of string ]) Rresult.result = <fun>\n"
     ]
    }
   ],
   "source": [
    "#use \"/home/opam/work/lib/util.ml\""
   ]
  },
  {
   "cell_type": "code",
   "execution_count": 11,
   "metadata": {},
   "outputs": [
    {
     "data": {
      "text/plain": [
       "- : string = \"PKLDSENB0U8ST5KZI612\"\n"
      ]
     },
     "execution_count": 11,
     "metadata": {},
     "output_type": "execute_result"
    }
   ],
   "source": [
    "yval |> get_value \"key\" |> get_string_opt |> get_string "
   ]
  },
  {
   "cell_type": "code",
   "execution_count": null,
   "metadata": {},
   "outputs": [],
   "source": [
    "let (alpaca_secret, alpaca_key) = \n",
    "  let yaml = Yaml_unix.of_file_exn (Fpath.v \"keys.paper.yaml\") in\n",
    "  let key = yaml |> get_value \"key\" |> get_string_opt |> get_string in \n",
    "  let secret = yaml |> get_value \"secret\" |> get_string_opt |> get_string in\n",
    "  (secret, key)"
   ]
  }
 ],
 "metadata": {
  "kernelspec": {
   "display_name": "OCaml 4.11",
   "language": "OCaml",
   "name": "ocaml-jupyter"
  },
  "language_info": {
   "codemirror_mode": "text/x-ocaml",
   "file_extension": ".ml",
   "mimetype": "text/x-ocaml",
   "name": "OCaml",
   "nbconverter_exporter": null,
   "pygments_lexer": "OCaml",
   "version": "4.11.1"
  }
 },
 "nbformat": 4,
 "nbformat_minor": 4
}
