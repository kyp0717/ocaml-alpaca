{
 "cells": [
  {
   "cell_type": "code",
   "execution_count": null,
   "metadata": {},
   "outputs": [],
   "source": [
    "\n",
    "#require \"core\";;\n",
    "#require \"yaml.unix\";;\n",
    "#require \"yaml\";;\n",
    "#require \"fpath\"\n",
    "#require \"yaml.unix\"\n",
    "#require \"lwt\"\n",
    "#require \"cohttp\"\n",
    "#require \"cohttp-lwt-unix\"\n",
    "open Fpath\n",
    "\n",
    "\n",
    "let s_file = \n",
    "\"key1: val1\n",
    "key2: val2\""
   ]
  },
  {
   "cell_type": "code",
   "execution_count": null,
   "metadata": {},
   "outputs": [],
   "source": [
    "Fpath.v \"keys.paper.yaml\""
   ]
  },
  {
   "cell_type": "code",
   "execution_count": null,
   "metadata": {},
   "outputs": [],
   "source": [
    "let yaml_value = Yaml_unix.of_file_exn (Fpath.v \"keys.paper.yaml\") "
   ]
  },
  {
   "cell_type": "code",
   "execution_count": 36,
   "metadata": {},
   "outputs": [
    {
     "data": {
      "text/plain": [
       "type empty = Empty\n"
      ]
     },
     "execution_count": 36,
     "metadata": {},
     "output_type": "execute_result"
    },
    {
     "data": {
      "text/plain": [
       "exception Yaml_list of string\n"
      ]
     },
     "execution_count": 36,
     "metadata": {},
     "output_type": "execute_result"
    },
    {
     "data": {
      "text/plain": [
       "exception Yaml_unknown of string\n"
      ]
     },
     "execution_count": 36,
     "metadata": {},
     "output_type": "execute_result"
    },
    {
     "data": {
      "text/plain": [
       "type _ gvalue =\n",
       "    Vnull : Yaml.value -> empty gvalue\n",
       "  | Vfloat : Yaml.value -> float gvalue\n",
       "  | Vstring : Yaml.value -> string gvalue\n",
       "  | Vlist : Yaml.value -> string gvalue\n"
      ]
     },
     "execution_count": 36,
     "metadata": {},
     "output_type": "execute_result"
    },
    {
     "data": {
      "text/plain": [
       "val val_to_gval : 'a gvalue -> 'a = <fun>\n"
      ]
     },
     "execution_count": 36,
     "metadata": {},
     "output_type": "execute_result"
    }
   ],
   "source": [
    "type empty = Empty\n",
    "\n",
    "exception Yaml_list of string\n",
    "exception Yaml_unknown of string\n",
    "\n",
    "type _ gvalue = \n",
    "  | Vnull : Yaml.value ->   empty gvalue\n",
    "  | Vfloat : Yaml.value -> float gvalue \n",
    "  | Vstring : Yaml.value  -> string gvalue\n",
    "  | Vlist : Yaml.value -> string gvalue\n",
    "\n",
    "\n",
    "let val_to_gval : type a. a gvalue -> a  = function\n",
    " | Vnull (`Null ) -> Empty\n",
    " | Vfloat (`Float x ) -> x\n",
    " | Vstring (`String s ) -> s\n",
    " | Vlist (`O _) ->  raise (Yaml_list \"can't eval yaml list\")\n",
    " | _ -> raise (Yaml_unknown \"unknown yaml value\")\n",
    " "
   ]
  },
  {
   "cell_type": "code",
   "execution_count": null,
   "metadata": {},
   "outputs": [],
   "source": []
  }
 ],
 "metadata": {
  "kernelspec": {
   "display_name": "OCaml 4.11",
   "language": "OCaml",
   "name": "ocaml-jupyter"
  },
  "language_info": {
   "codemirror_mode": "text/x-ocaml",
   "file_extension": ".ml",
   "mimetype": "text/x-ocaml",
   "name": "OCaml",
   "nbconverter_exporter": null,
   "pygments_lexer": "OCaml",
   "version": "4.11.1"
  }
 },
 "nbformat": 4,
 "nbformat_minor": 4
}
