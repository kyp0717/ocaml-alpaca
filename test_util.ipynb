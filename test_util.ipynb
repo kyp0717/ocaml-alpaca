{
 "cells": [
  {
   "cell_type": "code",
   "execution_count": 8,
   "metadata": {},
   "outputs": [
    {
     "name": "stderr",
     "output_type": "stream",
     "text": [
      "/home/opam/.opam/4.11/lib/result: added to search path\n",
      "/home/opam/.opam/4.11/lib/result/result.cma: loaded\n",
      "/home/opam/.opam/4.11/lib/rresult: added to search path\n",
      "/home/opam/.opam/4.11/lib/rresult/rresult.cma: loaded\n",
      "/home/opam/.opam/4.11/lib/seq: added to search path\n",
      "/home/opam/.opam/4.11/lib/stdlib-shims: added to search path\n",
      "/home/opam/.opam/4.11/lib/stdlib-shims/stdlib_shims.cma: loaded\n",
      "/home/opam/.opam/4.11/lib/fmt: added to search path\n",
      "/home/opam/.opam/4.11/lib/fmt/fmt.cma: loaded\n",
      "/home/opam/.opam/4.11/lib/ocaml/unix.cma: loaded\n",
      "/home/opam/.opam/4.11/lib/logs: added to search path\n",
      "/home/opam/.opam/4.11/lib/logs/logs.cma: loaded\n",
      "/home/opam/.opam/4.11/lib/bos: added to search path\n",
      "/home/opam/.opam/4.11/lib/bos/bos.cma: loaded\n",
      "/home/opam/.opam/4.11/lib/sexplib0: added to search path\n",
      "/home/opam/.opam/4.11/lib/sexplib0/sexplib0.cma: loaded\n",
      "/home/opam/.opam/4.11/lib/ppx_sexp_conv/runtime-lib: added to search path\n",
      "/home/opam/.opam/4.11/lib/ppx_sexp_conv/runtime-lib/ppx_sexp_conv_lib.cma: loaded\n",
      "/home/opam/.opam/4.11/lib/ocaml/bigarray.cma: loaded\n",
      "/home/opam/.opam/4.11/lib/base/caml: added to search path\n",
      "/home/opam/.opam/4.11/lib/base/caml/caml.cma: loaded\n",
      "/home/opam/.opam/4.11/lib/parsexp: added to search path\n",
      "/home/opam/.opam/4.11/lib/parsexp/parsexp.cma: loaded\n",
      "/home/opam/.opam/4.11/lib/sexplib: added to search path\n",
      "/home/opam/.opam/4.11/lib/sexplib/sexplib.cma: loaded\n",
      "/home/opam/.opam/4.11/lib/bytes: added to search path\n",
      "/home/opam/.opam/4.11/lib/integers: added to search path\n",
      "/home/opam/.opam/4.11/lib/integers/integers.cma: loaded\n",
      "/home/opam/.opam/4.11/lib/ctypes: added to search path\n",
      "/home/opam/.opam/4.11/lib/ctypes/ctypes.cma: loaded\n",
      "/home/opam/.opam/4.11/lib/ctypes/ctypes-top.cma: loaded\n",
      "/home/opam/.opam/4.11/lib/ocaml/str.cma: loaded\n",
      "/home/opam/.opam/4.11/lib/ctypes/cstubs.cma: loaded\n",
      "/home/opam/.opam/4.11/lib/yaml/bindings/types: added to search path\n",
      "/home/opam/.opam/4.11/lib/yaml/bindings/types/yaml_bindings_types.cma: loaded\n",
      "/home/opam/.opam/4.11/lib/yaml/types: added to search path\n",
      "/home/opam/.opam/4.11/lib/yaml/types/yaml_types.cma: loaded\n",
      "/home/opam/.opam/4.11/lib/yaml/bindings: added to search path\n",
      "/home/opam/.opam/4.11/lib/yaml/bindings/yaml_bindings.cma: loaded\n",
      "/home/opam/.opam/4.11/lib/yaml/c: added to search path\n",
      "/home/opam/.opam/4.11/lib/yaml/c/yaml_c.cma: loaded\n",
      "/home/opam/.opam/4.11/lib/yaml/ffi: added to search path\n",
      "/home/opam/.opam/4.11/lib/yaml/ffi/yaml_ffi.cma: loaded\n",
      "/home/opam/.opam/4.11/lib/yaml: added to search path\n",
      "/home/opam/.opam/4.11/lib/yaml/yaml.cma: loaded\n",
      "/home/opam/.opam/4.11/lib/yaml/unix: added to search path\n",
      "/home/opam/.opam/4.11/lib/yaml/unix/yaml_unix.cma: loaded\n"
     ]
    }
   ],
   "source": [
    "#require \"fpath\"\n",
    "#require \"yaml.unix\"\n",
    "#require \"lwt\"\n",
    "#require \"cohttp\"\n",
    "#require \"cohttp-lwt-unix\"\n",
    "open Fpath"
   ]
  },
  {
   "cell_type": "code",
   "execution_count": 5,
   "metadata": {},
   "outputs": [
    {
     "data": {
      "text/plain": [
       "- : string -> Fpath.t = <fun>\n"
      ]
     },
     "execution_count": 5,
     "metadata": {},
     "output_type": "execute_result"
    }
   ],
   "source": [
    "Fpath.v"
   ]
  },
  {
   "cell_type": "code",
   "execution_count": 6,
   "metadata": {},
   "outputs": [
    {
     "data": {
      "text/plain": [
       "- : Fpath.t = <abstr>\n"
      ]
     },
     "execution_count": 6,
     "metadata": {},
     "output_type": "execute_result"
    }
   ],
   "source": [
    "Fpath.v \"keys.paper.yaml\""
   ]
  },
  {
   "cell_type": "code",
   "execution_count": 9,
   "metadata": {},
   "outputs": [
    {
     "data": {
      "text/plain": [
       "val yaml : Yaml.value =\n",
       "  `O\n",
       "    [(\"urltrade\", `String \"https://paper-api.alpaca.markets\");\n",
       "     (\"urldata\", `String \"https://data.alpaca.markets\");\n",
       "     (\"urlsocket\", `String \"wss://data.alpaca.markets/stream\");\n",
       "     (\"key\", `String \"PKLDSENB0U8ST5KZI612\");\n",
       "     (\"secret\", `String \"qEmsGIbj8WSBK3DLVDlwcB6KJ3JsLcndnuCHdLIu\")]\n"
      ]
     },
     "execution_count": 9,
     "metadata": {},
     "output_type": "execute_result"
    }
   ],
   "source": [
    "let yaml = Yaml_unix.of_file_exn (Fpath.v \"keys.paper.yaml\") "
   ]
  },
  {
   "cell_type": "code",
   "execution_count": 26,
   "metadata": {},
   "outputs": [
    {
     "name": "stdout",
     "output_type": "stream",
     "text": [
      "val get_value :\n",
      "  'a ->\n",
      "  [> `O of ('a * 'b) list ] ->\n",
      "  ('b option, [> `Msg of string ]) Rresult.result = <fun>\n",
      "val get_keys :\n",
      "  [> `O of ('a * 'b) list ] -> ('a list, [> `Msg of string ]) Rresult.result =\n",
      "  <fun>\n",
      "val to_list :\n",
      "  [> `O of ('a * 'b) list ] -> ('b list, [> `Msg of string ]) Rresult.result =\n",
      "  <fun>\n",
      "val get_string : [> `String of 'a ] option -> 'a = <fun>\n",
      "val get_string_opt : ('a option, 'b) Rresult.result -> 'a option = <fun>\n",
      "val to_string :\n",
      "  [> `String of 'a ] -> ('a, [> `Msg of string ]) Rresult.result = <fun>\n",
      "val to_bool : [> `Bool of 'a ] -> ('a, [> `Msg of string ]) Rresult.result =\n",
      "  <fun>\n",
      "val to_float : [> `Float of 'a ] -> ('a, [> `Msg of string ]) Rresult.result =\n",
      "  <fun>\n",
      "val map :\n",
      "  ('a -> 'b) ->\n",
      "  [> `A of 'a list ] ->\n",
      "  ([> `A of 'b list ], [> `Msg of string ]) Rresult.result = <fun>\n"
     ]
    }
   ],
   "source": [
    "#use \"lib/util.ml\""
   ]
  },
  {
   "cell_type": "code",
   "execution_count": 23,
   "metadata": {},
   "outputs": [
    {
     "data": {
      "text/plain": [
       "- : 'a ->\n",
       "    [> `O of ('a * 'b) list ] ->\n",
       "    ('b option, [> `Msg of string ]) Rresult.result\n",
       "= <fun>\n"
      ]
     },
     "execution_count": 23,
     "metadata": {},
     "output_type": "execute_result"
    }
   ],
   "source": [
    "member"
   ]
  },
  {
   "cell_type": "code",
   "execution_count": 24,
   "metadata": {},
   "outputs": [
    {
     "data": {
      "text/plain": [
       "- : Yaml.value =\n",
       "`O\n",
       "  [(\"urltrade\", `String \"https://paper-api.alpaca.markets\");\n",
       "   (\"urldata\", `String \"https://data.alpaca.markets\");\n",
       "   (\"urlsocket\", `String \"wss://data.alpaca.markets/stream\");\n",
       "   (\"key\", `String \"PKLDSENB0U8ST5KZI612\");\n",
       "   (\"secret\", `String \"qEmsGIbj8WSBK3DLVDlwcB6KJ3JsLcndnuCHdLIu\")]\n"
      ]
     },
     "execution_count": 24,
     "metadata": {},
     "output_type": "execute_result"
    }
   ],
   "source": [
    "yaml"
   ]
  },
  {
   "cell_type": "code",
   "execution_count": 14,
   "metadata": {},
   "outputs": [
    {
     "data": {
      "text/plain": [
       "- : (Yaml.value option, [> `Msg of string ]) Rresult.result =\n",
       "Ok (Some (`String \"PKLDSENB0U8ST5KZI612\"))\n"
      ]
     },
     "execution_count": 14,
     "metadata": {},
     "output_type": "execute_result"
    }
   ],
   "source": [
    "get_value \"key\" yaml"
   ]
  },
  {
   "cell_type": "code",
   "execution_count": 21,
   "metadata": {},
   "outputs": [
    {
     "data": {
      "text/plain": [
       "- : Yaml.value option = Some (`String \"PKLDSENB0U8ST5KZI612\")\n"
      ]
     },
     "execution_count": 21,
     "metadata": {},
     "output_type": "execute_result"
    }
   ],
   "source": [
    "yaml |> get_value \"key\" |> get_string_opt "
   ]
  },
  {
   "cell_type": "code",
   "execution_count": 27,
   "metadata": {},
   "outputs": [
    {
     "data": {
      "text/plain": [
       "- : string = \"PKLDSENB0U8ST5KZI612\"\n"
      ]
     },
     "execution_count": 27,
     "metadata": {},
     "output_type": "execute_result"
    }
   ],
   "source": [
    "yaml |> get_value \"key\" |> get_string_opt |> get_string"
   ]
  },
  {
   "cell_type": "code",
   "execution_count": 40,
   "metadata": {},
   "outputs": [
    {
     "name": "stdout",
     "output_type": "stream",
     "text": [
      "type 'a res = ('a, Rresult.R.msg) Result.result\n",
      "type access_info = {\n",
      "  urltrade : string;\n",
      "  urldata : string;\n",
      "  urlsocket : string;\n",
      "  key : string;\n",
      "  secret : string;\n",
      "}\n",
      "val alpaca_secret : string = \"qEmsGIbj8WSBK3DLVDlwcB6KJ3JsLcndnuCHdLIu\"\n",
      "val alpaca_key : string = \"PKLDSENB0U8ST5KZI612\"\n",
      "val headers : Cohttp.Header.t = <abstr>\n",
      "val req_alpaca_time : string Lwt.t = <abstr>\n",
      "File \"lib/alpaca.ml\", line 48, characters 30-37:\n",
      "48 |   let respBody = Lwt_main.run reqBody in\n",
      "                                   ^^^^^^^\n",
      "Error: Unbound value reqBody\n"
     ]
    }
   ],
   "source": [
    "#use \"lib/alpaca.ml\""
   ]
  },
  {
   "cell_type": "code",
   "execution_count": null,
   "metadata": {},
   "outputs": [],
   "source": []
  }
 ],
 "metadata": {
  "kernelspec": {
   "display_name": "OCaml 4.11",
   "language": "OCaml",
   "name": "ocaml-jupyter"
  },
  "language_info": {
   "codemirror_mode": "text/x-ocaml",
   "file_extension": ".ml",
   "mimetype": "text/x-ocaml",
   "name": "OCaml",
   "nbconverter_exporter": null,
   "pygments_lexer": "OCaml",
   "version": "4.11.1"
  }
 },
 "nbformat": 4,
 "nbformat_minor": 4
}
